{
 "cells": [
  {
   "cell_type": "markdown",
   "metadata": {},
   "source": [
    "# Continuous Control\n",
    "\n",
    "---\n",
    "\n",
    "You are welcome to use this coding environment to train your agent for the project.  Follow the instructions below to get started!\n",
    "\n",
    "### 1. Start the Environment\n",
    "\n",
    "Run the next code cell to install a few packages.  This line will take a few minutes to run!"
   ]
  },
  {
   "cell_type": "code",
   "execution_count": 4,
   "metadata": {},
   "outputs": [
    {
     "name": "stdout",
     "output_type": "stream",
     "text": [
      "\u001b[31mipython 6.5.0 has requirement prompt-toolkit<2.0.0,>=1.0.15, but you'll have prompt-toolkit 3.0.29 which is incompatible.\u001b[0m\r\n",
      "\u001b[31mtensorflow 1.7.1 has requirement numpy>=1.13.3, but you'll have numpy 1.12.1 which is incompatible.\u001b[0m\r\n",
      "\u001b[31mjupyter-console 6.4.3 has requirement jupyter-client>=7.0.0, but you'll have jupyter-client 5.2.4 which is incompatible.\u001b[0m\r\n"
     ]
    }
   ],
   "source": [
    "!pip -q install ./python"
   ]
  },
  {
   "cell_type": "code",
   "execution_count": 6,
   "metadata": {},
   "outputs": [],
   "source": [
    "import gym\n",
    "import random\n",
    "import torch\n",
    "import numpy as np\n",
    "from collections import deque\n",
    "import matplotlib.pyplot as plt\n",
    "%matplotlib inline"
   ]
  },
  {
   "cell_type": "code",
   "execution_count": 7,
   "metadata": {},
   "outputs": [
    {
     "name": "stdout",
     "output_type": "stream",
     "text": [
      "The autoreload extension is already loaded. To reload it, use:\n",
      "  %reload_ext autoreload\n"
     ]
    }
   ],
   "source": [
    "from src.reacher_agent import Agent\n",
    "\n",
    "%load_ext autoreload\n",
    "%autoreload 2"
   ]
  },
  {
   "cell_type": "markdown",
   "metadata": {},
   "source": [
    "The environments corresponding to both versions of the environment are already saved in the Workspace and can be accessed at the file paths provided below.  \n",
    "\n",
    "Please select one of the two options below for loading the environment."
   ]
  },
  {
   "cell_type": "code",
   "execution_count": 8,
   "metadata": {},
   "outputs": [
    {
     "name": "stderr",
     "output_type": "stream",
     "text": [
      "INFO:unityagents:\n",
      "'Academy' started successfully!\n",
      "Unity Academy name: Academy\n",
      "        Number of Brains: 1\n",
      "        Number of External Brains : 1\n",
      "        Lesson number : 0\n",
      "        Reset Parameters :\n",
      "\t\tgoal_speed -> 1.0\n",
      "\t\tgoal_size -> 5.0\n",
      "Unity brain name: ReacherBrain\n",
      "        Number of Visual Observations (per agent): 0\n",
      "        Vector Observation space type: continuous\n",
      "        Vector Observation space size (per agent): 33\n",
      "        Number of stacked Vector Observation: 1\n",
      "        Vector Action space type: continuous\n",
      "        Vector Action space size (per agent): 4\n",
      "        Vector Action descriptions: , , , \n"
     ]
    }
   ],
   "source": [
    "from unityagents import UnityEnvironment\n",
    "import numpy as np\n",
    "\n",
    "# select this option to load version 1 (with a single agent) of the environment\n",
    "env = UnityEnvironment(file_name='/data/Reacher_One_Linux_NoVis/Reacher_One_Linux_NoVis.x86_64')\n",
    "\n",
    "# select this option to load version 2 (with 20 agents) of the environment\n",
    "# env = UnityEnvironment(file_name='/data/Reacher_Linux_NoVis/Reacher.x86_64')"
   ]
  },
  {
   "cell_type": "markdown",
   "metadata": {},
   "source": [
    "Environments contain **_brains_** which are responsible for deciding the actions of their associated agents. Here we check for the first brain available, and set it as the default brain we will be controlling from Python."
   ]
  },
  {
   "cell_type": "code",
   "execution_count": 9,
   "metadata": {},
   "outputs": [],
   "source": [
    "# get the default brain\n",
    "brain_name = env.brain_names[0]\n",
    "brain = env.brains[brain_name]"
   ]
  },
  {
   "cell_type": "markdown",
   "metadata": {},
   "source": [
    "### 2. Examine the State and Action Spaces\n",
    "\n",
    "Run the code cell below to print some information about the environment."
   ]
  },
  {
   "cell_type": "code",
   "execution_count": 10,
   "metadata": {},
   "outputs": [
    {
     "name": "stdout",
     "output_type": "stream",
     "text": [
      "Number of agents: 1\n",
      "Size of each action: 4\n",
      "There are 1 agents. Each observes a state with length: 33\n",
      "The state for the first agent looks like: [  0.00000000e+00  -4.00000000e+00   0.00000000e+00   1.00000000e+00\n",
      "  -0.00000000e+00  -0.00000000e+00  -4.37113883e-08   0.00000000e+00\n",
      "   0.00000000e+00   0.00000000e+00   0.00000000e+00   0.00000000e+00\n",
      "   0.00000000e+00   0.00000000e+00  -1.00000000e+01   0.00000000e+00\n",
      "   1.00000000e+00  -0.00000000e+00  -0.00000000e+00  -4.37113883e-08\n",
      "   0.00000000e+00   0.00000000e+00   0.00000000e+00   0.00000000e+00\n",
      "   0.00000000e+00   0.00000000e+00   5.75471878e+00  -1.00000000e+00\n",
      "   5.55726671e+00   0.00000000e+00   1.00000000e+00   0.00000000e+00\n",
      "  -1.68164849e-01]\n"
     ]
    }
   ],
   "source": [
    "# reset the environment\n",
    "env_info = env.reset(train_mode=True)[brain_name]\n",
    "\n",
    "# number of agents\n",
    "num_agents = len(env_info.agents)\n",
    "print('Number of agents:', num_agents)\n",
    "\n",
    "# size of each action\n",
    "action_size = brain.vector_action_space_size\n",
    "print('Size of each action:', action_size)\n",
    "\n",
    "# examine the state space \n",
    "states = env_info.vector_observations\n",
    "state_size = states.shape[1]\n",
    "print('There are {} agents. Each observes a state with length: {}'.format(states.shape[0], state_size))\n",
    "print('The state for the first agent looks like:', states[0])"
   ]
  },
  {
   "cell_type": "markdown",
   "metadata": {},
   "source": [
    "### 3. Take Random Actions in the Environment\n",
    "\n",
    "In the next code cell, you will learn how to use the Python API to control the agent and receive feedback from the environment.\n",
    "\n",
    "Note that **in this coding environment, you will not be able to watch the agents while they are training**, and you should set `train_mode=True` to restart the environment."
   ]
  },
  {
   "cell_type": "code",
   "execution_count": 11,
   "metadata": {},
   "outputs": [],
   "source": [
    "# env_info = env.reset(train_mode=True)[brain_name]      # reset the environment    \n",
    "# states = env_info.vector_observations                  # get the current state (for each agent)\n",
    "# scores = np.zeros(num_agents)                          # initialize the score (for each agent)\n",
    "# while True:\n",
    "#     actions = np.random.randn(num_agents, action_size) # select an action (for each agent)\n",
    "#     actions = np.clip(actions, -1, 1)                  # all actions between -1 and 1\n",
    "#     env_info = env.step(actions)[brain_name]           # send all actions to tne environment\n",
    "#     next_states = env_info.vector_observations         # get next state (for each agent)\n",
    "#     rewards = env_info.rewards                         # get reward (for each agent)\n",
    "#     dones = env_info.local_done                        # see if episode finished\n",
    "#     scores += env_info.rewards                         # update the score (for each agent)\n",
    "#     states = next_states                               # roll over states to next time step\n",
    "#     if np.any(dones):                                  # exit loop if episode finished\n",
    "#         break\n",
    "# print('Total score (averaged over agents) this episode: {}'.format(np.mean(scores)))"
   ]
  },
  {
   "cell_type": "markdown",
   "metadata": {},
   "source": [
    "When finished, you can close the environment."
   ]
  },
  {
   "cell_type": "code",
   "execution_count": 12,
   "metadata": {},
   "outputs": [],
   "source": [
    "# env.close()"
   ]
  },
  {
   "cell_type": "markdown",
   "metadata": {},
   "source": [
    "### 4. It's Your Turn!\n",
    "\n",
    "Now it's your turn to train your own agent to solve the environment!  A few **important notes**:\n",
    "- When training the environment, set `train_mode=True`, so that the line for resetting the environment looks like the following:\n",
    "```python\n",
    "env_info = env.reset(train_mode=True)[brain_name]\n",
    "```\n",
    "- To structure your work, you're welcome to work directly in this Jupyter notebook, or you might like to start over with a new file!  You can see the list of files in the workspace by clicking on **_Jupyter_** in the top left corner of the notebook.\n",
    "- In this coding environment, you will not be able to watch the agents while they are training.  However, **_after training the agents_**, you can download the saved model weights to watch the agents on your own machine! "
   ]
  },
  {
   "cell_type": "code",
   "execution_count": 13,
   "metadata": {},
   "outputs": [],
   "source": [
    "def reacher_ddpg(agent, n_episodes=500, max_t=300, print_every=10, target_score=30):\n",
    "\n",
    "    scores = []\n",
    "    scores_window = deque(maxlen=100)\n",
    "    scores_deque = deque(maxlen=print_every)\n",
    "    for i_episode in range(1, n_episodes+1):\n",
    "        env_info = env.reset(train_mode=True)[brain_name]\n",
    "        state = env_info.vector_observations[0]\n",
    "        score = 0\n",
    "        \n",
    "        agent.reset()\n",
    "        for t in range(max_t):\n",
    "\n",
    "            action = agent.act(state, add_noise=True)\n",
    "\n",
    "            # print(f\"\\r{np.array_equal(((action > -1) & (action < 1)), np.array([True] * 4))}\", end=\"\")\n",
    "#             action = np.clip(action, -1, 1)\n",
    "\n",
    "            env_info = env.step(action)[brain_name]\n",
    "\n",
    "            reward = env_info.rewards[0]\n",
    "            done = env_info.local_done[0]\n",
    "            next_state = env_info.vector_observations[0]\n",
    "\n",
    "            # print('\\rReward - {}'.format(reward), end=\"\")\n",
    "            \n",
    "            agent.step(state, action, reward, next_state, done)\n",
    "            state = next_state\n",
    "            score += reward\n",
    "            if done:\n",
    "                break\n",
    "        scores_deque.append(score)\n",
    "        scores_window.append(score)\n",
    "        scores.append(score)\n",
    "        # break\n",
    "\n",
    "#         print('\\rEpisode {}\\tScore this episode: {:.2f}'.format(i_episode, score), end=\"\")\n",
    "        print('\\rEpisode {}\\tScore this episode: {:.2f}'.format(i_episode, score), end=\"\")\n",
    "        if i_episode % print_every == 0:\n",
    "            print('\\rEpisode {}\\tAverage Score of last 10 episode: {:.2f}'.format(i_episode, np.mean(scores_deque)))\n",
    "        if np.mean(scores_window) >= target_score:\n",
    "            print('\\nEnvironment solved in {:d} episodes!\\tAverage Score: {:.2f}'.format(i_episode-100, np.mean(scores_window)))\n",
    "            torch.save(agent.actor_local.state_dict(), 'checkpoint_actor.pth')\n",
    "            torch.save(agent.critic_local.state_dict(), 'checkpoint_critic.pth')\n",
    "            break\n",
    "\n",
    "    return scores"
   ]
  },
  {
   "cell_type": "code",
   "execution_count": 14,
   "metadata": {},
   "outputs": [
    {
     "name": "stdout",
     "output_type": "stream",
     "text": [
      "Using device as - cuda:0\n",
      "Using hyperparameters - \n",
      "BUFFER_SIZE = 100000\n",
      "BATCH_SIZE = 128\n",
      "GAMMA = 0.99\n",
      "TAU = 0.001\n",
      "LR_ACTOR = 0.0001\n",
      "LR_CRITIC = 0.001\n",
      "WEIGHT_DECAY = 1e-06\n",
      "UPDATE_EVERY = 1\n",
      "EPSILON_DECAY = 1e-06\n",
      "EPS_START = 1.0\n",
      "EPS_END = 0\n",
      "EPS = 1.0\n"
     ]
    }
   ],
   "source": [
    "agent = Agent(state_size=33, action_size=4, random_seed=0, fc1_units=64, fc2_units=64, fcs1_units=64)"
   ]
  },
  {
   "cell_type": "code",
   "execution_count": 15,
   "metadata": {},
   "outputs": [
    {
     "name": "stdout",
     "output_type": "stream",
     "text": [
      "Episode 10\tAverage Score of last 10 episode: 0.79\n",
      "Episode 20\tAverage Score of last 10 episode: 1.89\n",
      "Episode 30\tAverage Score of last 10 episode: 3.30\n",
      "Episode 40\tAverage Score of last 10 episode: 3.79\n",
      "Episode 50\tAverage Score of last 10 episode: 4.43\n",
      "Episode 60\tAverage Score of last 10 episode: 6.79\n",
      "Episode 70\tAverage Score of last 10 episode: 6.65\n",
      "Episode 80\tAverage Score of last 10 episode: 7.16\n",
      "Episode 90\tAverage Score of last 10 episode: 8.11\n",
      "Episode 100\tAverage Score of last 10 episode: 10.29\n",
      "Episode 110\tAverage Score of last 10 episode: 11.42\n",
      "Episode 120\tAverage Score of last 10 episode: 10.36\n",
      "Episode 130\tAverage Score of last 10 episode: 11.35\n",
      "Episode 140\tAverage Score of last 10 episode: 13.32\n",
      "Episode 150\tAverage Score of last 10 episode: 14.29\n",
      "Episode 160\tAverage Score of last 10 episode: 14.39\n",
      "Episode 170\tAverage Score of last 10 episode: 14.74\n",
      "Episode 180\tAverage Score of last 10 episode: 13.98\n",
      "Episode 190\tAverage Score of last 10 episode: 16.25\n",
      "Episode 200\tAverage Score of last 10 episode: 18.94\n",
      "Episode 210\tAverage Score of last 10 episode: 16.63\n",
      "Episode 220\tAverage Score of last 10 episode: 16.42\n",
      "Episode 230\tAverage Score of last 10 episode: 17.92\n",
      "Episode 240\tAverage Score of last 10 episode: 24.24\n",
      "Episode 250\tAverage Score of last 10 episode: 27.54\n",
      "Episode 260\tAverage Score of last 10 episode: 26.50\n",
      "Episode 270\tAverage Score of last 10 episode: 25.63\n",
      "Episode 280\tAverage Score of last 10 episode: 24.33\n",
      "Episode 290\tAverage Score of last 10 episode: 24.13\n",
      "Episode 300\tAverage Score of last 10 episode: 22.30\n",
      "Episode 310\tAverage Score of last 10 episode: 28.29\n",
      "Episode 320\tAverage Score of last 10 episode: 31.05\n",
      "Episode 330\tAverage Score of last 10 episode: 33.54\n",
      "Episode 340\tAverage Score of last 10 episode: 33.25\n",
      "Episode 350\tAverage Score of last 10 episode: 33.20\n",
      "Episode 360\tAverage Score of last 10 episode: 33.37\n",
      "Episode 370\tAverage Score of last 10 episode: 35.02\n",
      "Episode 371\tScore this episode: 38.51\n",
      "Environment solved in 271 episodes!\tAverage Score: 30.15\n"
     ]
    }
   ],
   "source": [
    "scores = reacher_ddpg(agent, max_t=1000, n_episodes=500)"
   ]
  },
  {
   "cell_type": "code",
   "execution_count": 16,
   "metadata": {},
   "outputs": [
    {
     "data": {
      "image/png": "[encoded data removed]",
      "text/plain": [
       "<matplotlib.figure.Figure at 0x7efe3638a278>"
      ]
     },
     "metadata": {
      "needs_background": "light"
     },
     "output_type": "display_data"
    }
   ],
   "source": [
    "fig = plt.figure()\n",
    "ax = fig.add_subplot(111)\n",
    "plt.plot(np.arange(1, len(scores)+1), scores)\n",
    "plt.ylabel('Score')\n",
    "plt.xlabel('Episode #')\n",
    "plt.show()"
   ]
  },
  {
   "cell_type": "markdown",
   "metadata": {},
   "source": [
    "# Run a smart agent"
   ]
  },
  {
   "cell_type": "code",
   "execution_count": 2,
   "metadata": {},
   "outputs": [],
   "source": [
    "# reset the environment\n",
    "env_info = env.reset(train_mode=False)[brain_name]"
   ]
  },
  {
   "cell_type": "code",
   "execution_count": null,
   "metadata": {},
   "outputs": [],
   "source": [
    "agent = Agent(state_size=33, action_size=4, random_seed=0, fc1_units=64, fc2_units=64, fcs1_units=64)\n",
    "\n",
    "\n",
    "### load weights ####\n",
    "actor_dict = torch.load('./data/checkpoint_actor.pth', map_location={'cuda:0': 'cpu'})\n",
    "critic_dict = torch.load('./datacheckpoint_critic.pth', map_location={'cuda:0': 'cpu'})\n",
    "\n",
    "agent.actor_local.load_state_dict(actor_dict)\n",
    "agent.actor_target.load_state_dict(actor_dict)\n",
    "\n",
    "agent.critic_local.load_state_dict(critic_dict)\n",
    "agent.critic_target.load_state_dict(critic_dict)\n",
    "\n",
    "\n",
    "####################\n",
    "\n",
    "state = env_info.vector_observations[0]\n",
    "agent.reset() # set the noise to zero\n",
    "score = 0\n",
    "for t in range(1000):\n",
    "    action = agent.act(state, add_noise=False)\n",
    "\n",
    "    env_info = env.step(action)[brain_name]\n",
    "    next_state = env_info.vector_observations[0]\n",
    "    reward = env_info.rewards[0]\n",
    "    done = env_info.local_done[0]\n",
    "\n",
    "    agent.step(state, action, reward, next_state, done)\n",
    "    state = next_state\n",
    "    score += reward\n",
    "    if done:\n",
    "        break\n",
    "\n",
    "env.close()\n",
    "print('score = ', np.mean(score))"
   ]
  }
 ],
 "metadata": {
  "kernelspec": {
   "display_name": "Python 3.6.13 ('drlnd')",
   "language": "python",
   "name": "python3"
  },
  "language_info": {
   "codemirror_mode": {
    "name": "ipython",
    "version": 3
   },
   "file_extension": ".py",
   "mimetype": "text/x-python",
   "name": "python",
   "nbconvert_exporter": "python",
   "pygments_lexer": "ipython3",
   "version": "3.6.13"
  },
  "vscode": {
   "interpreter": {
    "hash": "47262fea9723a7f963f040ef498f6535228b72686a73da3b505f8921e55fb48f"
   }
  }
 },
 "nbformat": 4,
 "nbformat_minor": 2
}
